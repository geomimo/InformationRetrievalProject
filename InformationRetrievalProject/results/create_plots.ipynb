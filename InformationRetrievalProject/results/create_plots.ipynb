{
 "metadata": {
  "language_info": {
   "codemirror_mode": {
    "name": "ipython",
    "version": 3
   },
   "file_extension": ".py",
   "mimetype": "text/x-python",
   "name": "python",
   "nbconvert_exporter": "python",
   "pygments_lexer": "ipython3",
   "version": "3.7.9-final"
  },
  "orig_nbformat": 2,
  "kernelspec": {
   "name": "skmob",
   "display_name": "Python [conda env: skmob]",
   "language": "python"
  }
 },
 "nbformat": 4,
 "nbformat_minor": 2,
 "cells": [
  {
   "cell_type": "code",
   "execution_count": 1,
   "metadata": {},
   "outputs": [],
   "source": [
    "import pandas as pd\n",
    "import numpy as np\n",
    "import matplotlib.pyplot as plt"
   ]
  },
  {
   "cell_type": "code",
   "execution_count": 138,
   "metadata": {},
   "outputs": [],
   "source": [
    "def interpolate(rs, ps):\n",
    "    inter_ps = []\n",
    "    ls = list(zip(rs, ps))\n",
    "    sp = np.linspace(0,1,11)\n",
    "    for x in sp:\n",
    "        try:\n",
    "            max_p = max(ls, key=lambda i: i[1])[1]\n",
    "            inter_ps.append(max_p)\n",
    "            ls = [i for i in ls if i[0]>x]\n",
    "        except ValueError:\n",
    "            break\n",
    "    inter_ps.extend([inter_ps[-1]]*(11-len(inter_ps)))\n",
    "    return inter_ps"
   ]
  },
  {
   "cell_type": "code",
   "execution_count": 147,
   "metadata": {},
   "outputs": [],
   "source": [
    "def save(name):\n",
    "    df = pd.read_csv(f'./history/{name}.csv')\n",
    "    rs = df.loc[:,[f\"R{i}\" for i in range(8)]]\n",
    "    ps = df.loc[:,[f\"P{i}\" for i in range(8)]]\n",
    "    inter_ps = list(map(interpolate, rs.values, ps.values))\n",
    "    inter_rs = np.linspace(0, 1, 11)\n",
    "    for i in range(len(inter_ps)):\n",
    "        fig = plt.figure()\n",
    "        plt.plot(inter_rs, inter_ps[i], marker='o')\n",
    "        plt.title(f'ID: {i+1}')\n",
    "        plt.xlim((0,1.1))\n",
    "        plt.ylim((0,1.1))\n",
    "        plt.savefig(f'./plots/{name}/{i+1}.png')\n",
    "        plt.close(fig)\n"
   ]
  },
  {
   "cell_type": "code",
   "execution_count": 148,
   "metadata": {},
   "outputs": [],
   "source": [
    "save('default')\n",
    "save('BM25')"
   ]
  },
  {
   "cell_type": "code",
   "execution_count": null,
   "metadata": {},
   "outputs": [],
   "source": []
  }
 ]
}